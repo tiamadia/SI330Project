{
 "cells": [
  {
   "cell_type": "markdown",
   "id": "3f45c3de-6491-42d3-9a52-95fecff734fc",
   "metadata": {},
   "source": [
    "## STEP 1: Importing all the libraries"
   ]
  },
  {
   "cell_type": "code",
   "execution_count": 458,
   "id": "1970bd7d-f6b5-4647-81da-b72f7ff6a283",
   "metadata": {},
   "outputs": [
    {
     "name": "stdout",
     "output_type": "stream",
     "text": [
      "All libraries imported\n"
     ]
    }
   ],
   "source": [
    "import pandas as pd\n",
    "import numpy as np\n",
    "import csv\n",
    "import matplotlib.pyplot as plt\n",
    "print('All libraries imported')"
   ]
  },
  {
   "cell_type": "code",
   "execution_count": 459,
   "id": "eb79cbe6-fe00-4867-9601-5102225f3c30",
   "metadata": {},
   "outputs": [
    {
     "name": "stdout",
     "output_type": "stream",
     "text": [
      "/Users/tiararaamadia\n"
     ]
    }
   ],
   "source": [
    "cd"
   ]
  },
  {
   "cell_type": "markdown",
   "id": "9198cb74-6182-43c5-8e2d-094780b42ff0",
   "metadata": {},
   "source": [
    "## STEP 2: Downloading all the datasets"
   ]
  },
  {
   "cell_type": "code",
   "execution_count": 379,
   "id": "d7393bf7-5570-4612-82c2-141e2171179a",
   "metadata": {},
   "outputs": [],
   "source": [
    "df1 = pd.read_csv('/Users/tiararaamadia/Downloads/Data-Table (1)_Final.csv', sep=';')\n",
    "df2 = pd.read_csv('/Users/tiararaamadia/Downloads/salaries-by-college-type.csv', sep=';')\n",
    "df3 = pd.read_csv('/Users/tiararaamadia/Downloads/salaries-by-region.csv')"
   ]
  },
  {
   "cell_type": "markdown",
   "id": "99032d56-eb39-43e0-b934-604eefc26cbc",
   "metadata": {},
   "source": [
    "## STEP 3: Cleaning the data. \n",
    "\n",
    "### 1st Database"
   ]
  },
  {
   "cell_type": "markdown",
   "id": "745b1513-a301-478f-87ff-c7f212dcea8c",
   "metadata": {},
   "source": [
    "#### Selecting specific columns out of the database:"
   ]
  },
  {
   "cell_type": "code",
   "execution_count": 380,
   "id": "ad928ba3-c6a3-4b0e-ad91-5d28995ab1f8",
   "metadata": {},
   "outputs": [],
   "source": [
    "headers = ['ACT Code', 'Name', 'Total Percent Admitted', 'Total Percent Admissions Yield', 'Undergraduate Enrollment', \n",
    "           'Total Tuition', 'Percent of Undergrad Enrollment that are Women', \n",
    "           'Percent of Undergrad Enrollment that are White', 'Degree of Urbanization', 'Percent of freshmen receiving any financial aid']\n",
    "df0 = [df1[\"AC Code\"], df1[\"Name\"], df1['Percent admitted - total'], df1['Admissions yield - total'], \n",
    "        df1['Undergraduate enrollment'], df1['Tuition and fees, 2013-14'], \n",
    "        df1['Percent of undergraduate enrollment that are women'], \n",
    "        df1['Percent of undergraduate enrollment that are White'], \n",
    "        df1['Degree of urbanization (Urban-centric locale)'], df1['Percent of freshmen receiving any financial aid'] ]\n",
    "college_info = pd.concat(df0, axis=1, keys=headers)"
   ]
  },
  {
   "cell_type": "code",
   "execution_count": 381,
   "id": "1c918adb-fff9-462c-8e89-95ebb1188516",
   "metadata": {},
   "outputs": [
    {
     "data": {
      "text/html": [
       "<div>\n",
       "<style scoped>\n",
       "    .dataframe tbody tr th:only-of-type {\n",
       "        vertical-align: middle;\n",
       "    }\n",
       "\n",
       "    .dataframe tbody tr th {\n",
       "        vertical-align: top;\n",
       "    }\n",
       "\n",
       "    .dataframe thead th {\n",
       "        text-align: right;\n",
       "    }\n",
       "</style>\n",
       "<table border=\"1\" class=\"dataframe\">\n",
       "  <thead>\n",
       "    <tr style=\"text-align: right;\">\n",
       "      <th></th>\n",
       "      <th>ACT Code</th>\n",
       "      <th>Name</th>\n",
       "      <th>Total Percent Admitted</th>\n",
       "      <th>Total Percent Admissions Yield</th>\n",
       "      <th>Undergraduate Enrollment</th>\n",
       "      <th>Total Tuition</th>\n",
       "      <th>Percent of Undergrad Enrollment that are Women</th>\n",
       "      <th>Percent of Undergrad Enrollment that are White</th>\n",
       "      <th>Degree of Urbanization</th>\n",
       "      <th>Percent of freshmen receiving any financial aid</th>\n",
       "    </tr>\n",
       "  </thead>\n",
       "  <tbody>\n",
       "    <tr>\n",
       "      <th>524</th>\n",
       "      <td>NaN</td>\n",
       "      <td>Illinois Wesleyan University</td>\n",
       "      <td>58</td>\n",
       "      <td>25</td>\n",
       "      <td>2009</td>\n",
       "      <td>39316</td>\n",
       "      <td>56</td>\n",
       "      <td>74</td>\n",
       "      <td>City: Small</td>\n",
       "      <td>99</td>\n",
       "    </tr>\n",
       "  </tbody>\n",
       "</table>\n",
       "</div>"
      ],
      "text/plain": [
       "    ACT Code                          Name Total Percent Admitted  \\\n",
       "524      NaN  Illinois Wesleyan University                     58   \n",
       "\n",
       "    Total Percent Admissions Yield Undergraduate Enrollment Total Tuition  \\\n",
       "524                             25                     2009         39316   \n",
       "\n",
       "    Percent of Undergrad Enrollment that are Women  \\\n",
       "524                                             56   \n",
       "\n",
       "    Percent of Undergrad Enrollment that are White Degree of Urbanization  \\\n",
       "524                                             74            City: Small   \n",
       "\n",
       "    Percent of freshmen receiving any financial aid  \n",
       "524                                              99  "
      ]
     },
     "execution_count": 381,
     "metadata": {},
     "output_type": "execute_result"
    }
   ],
   "source": [
    "college_info.sample(1)"
   ]
  },
  {
   "cell_type": "markdown",
   "id": "86f8957e-28bd-4b1d-ab4b-3617d89981c1",
   "metadata": {},
   "source": [
    "#### Filtering out uneccessary rows, similarizing all names into uppercase then converting the index column to be merged upon into numeric value. I also deleted any duplicate School Names:"
   ]
  },
  {
   "cell_type": "code",
   "execution_count": 382,
   "id": "b6b6bc62-38ab-46d0-b8c3-91dee932b8f9",
   "metadata": {},
   "outputs": [],
   "source": [
    "college_info = college_info.drop(766)"
   ]
  },
  {
   "cell_type": "code",
   "execution_count": 383,
   "id": "d66cdf37-d941-40d6-8d20-18e801693d18",
   "metadata": {},
   "outputs": [],
   "source": [
    "college_info['Name'] = college_info['Name'].str.upper()\n",
    "college_info['ACT Code'] = college_info['ACT Code'].fillna(0).astype(int)"
   ]
  },
  {
   "cell_type": "code",
   "execution_count": 384,
   "id": "cc258ead-639e-4eaf-a7cd-76992cab5c62",
   "metadata": {},
   "outputs": [],
   "source": [
    "college_info = college_info.drop_duplicates(subset=[\"Name\"])"
   ]
  },
  {
   "cell_type": "markdown",
   "id": "3dc712be-a4d0-4736-b35f-63ce9f5fce60",
   "metadata": {},
   "source": [
    "### 2nd Database\n"
   ]
  },
  {
   "cell_type": "markdown",
   "id": "63abcef1-c8bb-4187-827b-68d032f4a888",
   "metadata": {},
   "source": [
    "#### Dropping unneccessary rows, changing column names to be similar to the 1st database so it's easier to merge. Using regex to similarize the names of each university (removing abbreviations when 1st database didnt have any, for example)."
   ]
  },
  {
   "cell_type": "code",
   "execution_count": 385,
   "id": "bdaee1f3-f474-4660-b27f-0a8dfcfd1d0a",
   "metadata": {},
   "outputs": [],
   "source": [
    "df2.drop(['Mid-Career 90th Percentile Salary', 'Mid-Career 10th Percentile Salary', 'Unnamed: 9'], axis=1, inplace=True)"
   ]
  },
  {
   "cell_type": "code",
   "execution_count": 386,
   "id": "7e81b6ef-7ec7-453c-8b42-a719b6373e50",
   "metadata": {},
   "outputs": [],
   "source": [
    "college_salary = df2.rename(columns={'School Name': 'Name'})\n",
    "college_salary['Name'] = college_salary['Name'].str.upper()"
   ]
  },
  {
   "cell_type": "code",
   "execution_count": 387,
   "id": "ba3862a9-5a13-41ef-a94b-d3288d75a337",
   "metadata": {},
   "outputs": [
    {
     "name": "stderr",
     "output_type": "stream",
     "text": [
      "/var/folders/53/lfgpw9jn08zczcfctzqj5rkw0000gn/T/ipykernel_630/517137961.py:1: FutureWarning: The default value of regex will change from True to False in a future version.\n",
      "  college_salary['Name'] = college_salary['Name'].str.replace(r\"\\(.*?\\)\",\"\")\n"
     ]
    },
    {
     "data": {
      "text/html": [
       "<div>\n",
       "<style scoped>\n",
       "    .dataframe tbody tr th:only-of-type {\n",
       "        vertical-align: middle;\n",
       "    }\n",
       "\n",
       "    .dataframe tbody tr th {\n",
       "        vertical-align: top;\n",
       "    }\n",
       "\n",
       "    .dataframe thead th {\n",
       "        text-align: right;\n",
       "    }\n",
       "</style>\n",
       "<table border=\"1\" class=\"dataframe\">\n",
       "  <thead>\n",
       "    <tr style=\"text-align: right;\">\n",
       "      <th></th>\n",
       "      <th>ACT Code</th>\n",
       "      <th>Name</th>\n",
       "      <th>School Type</th>\n",
       "      <th>Starting Median Salary</th>\n",
       "      <th>Mid-Career Median Salary</th>\n",
       "      <th>Mid-Career 25th Percentile Salary</th>\n",
       "      <th>Mid-Career 75th Percentile Salary</th>\n",
       "    </tr>\n",
       "  </thead>\n",
       "  <tbody>\n",
       "    <tr>\n",
       "      <th>0</th>\n",
       "      <td>1774.0</td>\n",
       "      <td>AMHERST COLLEGE</td>\n",
       "      <td>Liberal Arts</td>\n",
       "      <td>$54,500.00</td>\n",
       "      <td>$107,000.00</td>\n",
       "      <td>$84,900.00</td>\n",
       "      <td>$162,000.00</td>\n",
       "    </tr>\n",
       "    <tr>\n",
       "      <th>1</th>\n",
       "      <td>3062.0</td>\n",
       "      <td>APPALACHIAN STATE UNIVERSITY</td>\n",
       "      <td>State</td>\n",
       "      <td>$40,400.00</td>\n",
       "      <td>$69,100.00</td>\n",
       "      <td>$50,400.00</td>\n",
       "      <td>$90,800.00</td>\n",
       "    </tr>\n",
       "    <tr>\n",
       "      <th>2</th>\n",
       "      <td>88.0</td>\n",
       "      <td>ARIZONA STATE UNIVERSITY</td>\n",
       "      <td>Party</td>\n",
       "      <td>$47,400.00</td>\n",
       "      <td>$84,100.00</td>\n",
       "      <td>$60,700.00</td>\n",
       "      <td>$114,000.00</td>\n",
       "    </tr>\n",
       "  </tbody>\n",
       "</table>\n",
       "</div>"
      ],
      "text/plain": [
       "   ACT Code                          Name   School Type  \\\n",
       "0    1774.0               AMHERST COLLEGE  Liberal Arts   \n",
       "1    3062.0  APPALACHIAN STATE UNIVERSITY         State   \n",
       "2      88.0     ARIZONA STATE UNIVERSITY          Party   \n",
       "\n",
       "  Starting Median Salary Mid-Career Median Salary  \\\n",
       "0             $54,500.00              $107,000.00   \n",
       "1             $40,400.00               $69,100.00   \n",
       "2             $47,400.00               $84,100.00   \n",
       "\n",
       "  Mid-Career 25th Percentile Salary Mid-Career 75th Percentile Salary  \n",
       "0                        $84,900.00                       $162,000.00  \n",
       "1                        $50,400.00                        $90,800.00  \n",
       "2                        $60,700.00                       $114,000.00  "
      ]
     },
     "execution_count": 387,
     "metadata": {},
     "output_type": "execute_result"
    }
   ],
   "source": [
    "college_salary['Name'] = college_salary['Name'].str.replace(r\"\\(.*?\\)\",\"\")\n",
    "college_salary = college_salary.drop_duplicates(subset=[\"Name\"])\n",
    "college_salary.head(3)"
   ]
  },
  {
   "cell_type": "markdown",
   "id": "aef39228-daa2-4c2f-9ac0-6ea42788a021",
   "metadata": {},
   "source": [
    "#### Merging both database on ACT Code, dropping duplicate Name column and turning all number-filled columns into numeric type:"
   ]
  },
  {
   "cell_type": "code",
   "execution_count": 388,
   "id": "dbe92fec-3725-4b06-a84c-c34538ab2c55",
   "metadata": {},
   "outputs": [],
   "source": [
    "data = pd.merge(left=college_info, right=college_salary, left_on='ACT Code', right_on='ACT Code')\n",
    "data.drop(['Name_y'], axis=1, inplace=True)\n",
    "data = data.rename(columns={'Name_x': 'Name'})"
   ]
  },
  {
   "cell_type": "code",
   "execution_count": 389,
   "id": "c6c67979-733d-42d5-b33b-aa5806f2ae09",
   "metadata": {},
   "outputs": [
    {
     "data": {
      "text/plain": [
       "ACT Code                                            int64\n",
       "Name                                               object\n",
       "Total Percent Admitted                             object\n",
       "Total Percent Admissions Yield                     object\n",
       "Undergraduate Enrollment                           object\n",
       "Total Tuition                                      object\n",
       "Percent of Undergrad Enrollment that are Women     object\n",
       "Percent of Undergrad Enrollment that are White     object\n",
       "Degree of Urbanization                             object\n",
       "Percent of freshmen receiving any financial aid    object\n",
       "School Type                                        object\n",
       "Starting Median Salary                             object\n",
       "Mid-Career Median Salary                           object\n",
       "Mid-Career 25th Percentile Salary                  object\n",
       "Mid-Career 75th Percentile Salary                  object\n",
       "dtype: object"
      ]
     },
     "execution_count": 389,
     "metadata": {},
     "output_type": "execute_result"
    }
   ],
   "source": [
    "data.dtypes"
   ]
  },
  {
   "cell_type": "code",
   "execution_count": 390,
   "id": "8050e603-7cc6-47fd-921b-641691163b2a",
   "metadata": {},
   "outputs": [],
   "source": [
    "titles = ['Total Percent Admitted', 'Total Percent Admissions Yield', 'Undergraduate Enrollment',\n",
    "          'Total Tuition', 'Percent of Undergrad Enrollment that are Women',\n",
    "          'Percent of Undergrad Enrollment that are White', 'Percent of freshmen receiving any financial aid']        \n",
    "data[titles] = data[titles].apply(pd.to_numeric, errors='coerce', axis=1)"
   ]
  },
  {
   "cell_type": "markdown",
   "id": "4b0ee9a6-83a3-4056-8dd0-b1950d188055",
   "metadata": {},
   "source": [
    "#### Removing all the dollar signs, commas in the Salary column so we can convert it into numeric type for calculation:"
   ]
  },
  {
   "cell_type": "code",
   "execution_count": 391,
   "id": "22eb64ef-90b3-45c1-8016-3315d7b859b7",
   "metadata": {},
   "outputs": [
    {
     "name": "stderr",
     "output_type": "stream",
     "text": [
      "/var/folders/53/lfgpw9jn08zczcfctzqj5rkw0000gn/T/ipykernel_630/1724908412.py:4: FutureWarning: The default value of regex will change from True to False in a future version. In addition, single character regular expressions will *not* be treated as literal strings when regex=True.\n",
      "  data[x] = data[x].str.replace(\"$\",\"\")\n"
     ]
    }
   ],
   "source": [
    "dollar_cols = ['Starting Median Salary', 'Mid-Career Median Salary', \n",
    "               'Mid-Career 25th Percentile Salary', 'Mid-Career 75th Percentile Salary']\n",
    "for x in dollar_cols:\n",
    "    data[x] = data[x].str.replace(\"$\",\"\")\n",
    "    data[x] = data[x].str.replace(\",\",\"\")\n",
    "    data[x] = pd.to_numeric(data[x])"
   ]
  },
  {
   "cell_type": "code",
   "execution_count": 392,
   "id": "28263393-5bff-4d9b-b75e-fda7921bb3ad",
   "metadata": {},
   "outputs": [
    {
     "data": {
      "text/plain": [
       "ACT Code                                             int64\n",
       "Name                                                object\n",
       "Total Percent Admitted                             float64\n",
       "Total Percent Admissions Yield                     float64\n",
       "Undergraduate Enrollment                           float64\n",
       "Total Tuition                                      float64\n",
       "Percent of Undergrad Enrollment that are Women     float64\n",
       "Percent of Undergrad Enrollment that are White     float64\n",
       "Degree of Urbanization                              object\n",
       "Percent of freshmen receiving any financial aid    float64\n",
       "School Type                                         object\n",
       "Starting Median Salary                             float64\n",
       "Mid-Career Median Salary                           float64\n",
       "Mid-Career 25th Percentile Salary                  float64\n",
       "Mid-Career 75th Percentile Salary                  float64\n",
       "dtype: object"
      ]
     },
     "execution_count": 392,
     "metadata": {},
     "output_type": "execute_result"
    }
   ],
   "source": [
    "data.dtypes"
   ]
  },
  {
   "cell_type": "code",
   "execution_count": 720,
   "id": "c69d10e3-6a79-437c-bb2c-919e7f670a72",
   "metadata": {},
   "outputs": [
    {
     "data": {
      "text/html": [
       "<div>\n",
       "<style scoped>\n",
       "    .dataframe tbody tr th:only-of-type {\n",
       "        vertical-align: middle;\n",
       "    }\n",
       "\n",
       "    .dataframe tbody tr th {\n",
       "        vertical-align: top;\n",
       "    }\n",
       "\n",
       "    .dataframe thead th {\n",
       "        text-align: right;\n",
       "    }\n",
       "</style>\n",
       "<table border=\"1\" class=\"dataframe\">\n",
       "  <thead>\n",
       "    <tr style=\"text-align: right;\">\n",
       "      <th></th>\n",
       "      <th>ACT Code</th>\n",
       "      <th>Name</th>\n",
       "      <th>Total Percent Admitted</th>\n",
       "      <th>Total Percent Admissions Yield</th>\n",
       "      <th>Undergraduate Enrollment</th>\n",
       "      <th>Total Tuition</th>\n",
       "      <th>Percent of Undergrad Enrollment that are Women</th>\n",
       "      <th>Percent of Undergrad Enrollment that are White</th>\n",
       "      <th>Degree of Urbanization</th>\n",
       "      <th>Percent of freshmen receiving any financial aid</th>\n",
       "      <th>School Type</th>\n",
       "      <th>Starting Median Salary</th>\n",
       "      <th>Mid-Career Median Salary</th>\n",
       "      <th>Mid-Career 25th Percentile Salary</th>\n",
       "      <th>Mid-Career 75th Percentile Salary</th>\n",
       "      <th>Mostly Women</th>\n",
       "      <th>Mostly White</th>\n",
       "      <th>Women/White</th>\n",
       "    </tr>\n",
       "  </thead>\n",
       "  <tbody>\n",
       "    <tr>\n",
       "      <th>190</th>\n",
       "      <td>3163</td>\n",
       "      <td>UNIVERSITY OF NORTH CAROLINA AT CHARLOTTE</td>\n",
       "      <td>69.0</td>\n",
       "      <td>38.0</td>\n",
       "      <td>21503.0</td>\n",
       "      <td>6107.0</td>\n",
       "      <td>48.0</td>\n",
       "      <td>61.0</td>\n",
       "      <td>City: Large</td>\n",
       "      <td>75.0</td>\n",
       "      <td>State</td>\n",
       "      <td>43100.0</td>\n",
       "      <td>74000.0</td>\n",
       "      <td>53200.0</td>\n",
       "      <td>99500.0</td>\n",
       "      <td>No</td>\n",
       "      <td>Yes</td>\n",
       "      <td>PWI Male Dominated</td>\n",
       "    </tr>\n",
       "    <tr>\n",
       "      <th>201</th>\n",
       "      <td>4274</td>\n",
       "      <td>UNIVERSITY OF UTAH</td>\n",
       "      <td>82.0</td>\n",
       "      <td>34.0</td>\n",
       "      <td>24492.0</td>\n",
       "      <td>7457.0</td>\n",
       "      <td>45.0</td>\n",
       "      <td>70.0</td>\n",
       "      <td>City: Midsize</td>\n",
       "      <td>64.0</td>\n",
       "      <td>State</td>\n",
       "      <td>45400.0</td>\n",
       "      <td>83200.0</td>\n",
       "      <td>58400.0</td>\n",
       "      <td>116000.0</td>\n",
       "      <td>No</td>\n",
       "      <td>Yes</td>\n",
       "      <td>PWI Male Dominated</td>\n",
       "    </tr>\n",
       "    <tr>\n",
       "      <th>114</th>\n",
       "      <td>2150</td>\n",
       "      <td>ST OLAF COLLEGE</td>\n",
       "      <td>59.0</td>\n",
       "      <td>32.0</td>\n",
       "      <td>3125.0</td>\n",
       "      <td>40700.0</td>\n",
       "      <td>56.0</td>\n",
       "      <td>78.0</td>\n",
       "      <td>Town: Distant</td>\n",
       "      <td>93.0</td>\n",
       "      <td>Liberal Arts</td>\n",
       "      <td>45300.0</td>\n",
       "      <td>86200.0</td>\n",
       "      <td>61000.0</td>\n",
       "      <td>120000.0</td>\n",
       "      <td>Yes</td>\n",
       "      <td>Yes</td>\n",
       "      <td>PWI Female Dominated</td>\n",
       "    </tr>\n",
       "  </tbody>\n",
       "</table>\n",
       "</div>"
      ],
      "text/plain": [
       "     ACT Code                                       Name  \\\n",
       "190      3163  UNIVERSITY OF NORTH CAROLINA AT CHARLOTTE   \n",
       "201      4274                         UNIVERSITY OF UTAH   \n",
       "114      2150                            ST OLAF COLLEGE   \n",
       "\n",
       "     Total Percent Admitted  Total Percent Admissions Yield  \\\n",
       "190                    69.0                            38.0   \n",
       "201                    82.0                            34.0   \n",
       "114                    59.0                            32.0   \n",
       "\n",
       "     Undergraduate Enrollment  Total Tuition  \\\n",
       "190                   21503.0         6107.0   \n",
       "201                   24492.0         7457.0   \n",
       "114                    3125.0        40700.0   \n",
       "\n",
       "     Percent of Undergrad Enrollment that are Women  \\\n",
       "190                                            48.0   \n",
       "201                                            45.0   \n",
       "114                                            56.0   \n",
       "\n",
       "     Percent of Undergrad Enrollment that are White Degree of Urbanization  \\\n",
       "190                                            61.0            City: Large   \n",
       "201                                            70.0          City: Midsize   \n",
       "114                                            78.0          Town: Distant   \n",
       "\n",
       "     Percent of freshmen receiving any financial aid   School Type  \\\n",
       "190                                             75.0         State   \n",
       "201                                             64.0         State   \n",
       "114                                             93.0  Liberal Arts   \n",
       "\n",
       "     Starting Median Salary  Mid-Career Median Salary  \\\n",
       "190                 43100.0                   74000.0   \n",
       "201                 45400.0                   83200.0   \n",
       "114                 45300.0                   86200.0   \n",
       "\n",
       "     Mid-Career 25th Percentile Salary  Mid-Career 75th Percentile Salary  \\\n",
       "190                            53200.0                            99500.0   \n",
       "201                            58400.0                           116000.0   \n",
       "114                            61000.0                           120000.0   \n",
       "\n",
       "    Mostly Women Mostly White           Women/White  \n",
       "190           No          Yes    PWI Male Dominated  \n",
       "201           No          Yes    PWI Male Dominated  \n",
       "114          Yes          Yes  PWI Female Dominated  "
      ]
     },
     "execution_count": 720,
     "metadata": {},
     "output_type": "execute_result"
    }
   ],
   "source": [
    "data.sample(3)"
   ]
  },
  {
   "cell_type": "markdown",
   "id": "44ac3003-6d50-4e5d-a9ef-7be9b88e003a",
   "metadata": {
    "tags": []
   },
   "source": [
    "## STEP 4: Using data to answer questions"
   ]
  },
  {
   "cell_type": "markdown",
   "id": "8f636992-ac6f-4ab9-a2f1-dad60d23e136",
   "metadata": {},
   "source": [
    "### 1. Do women make less money coming out of college?\n",
    "\n",
    "#### One question I want to answer is to figure out gender bias in post-undergraduate outcomes."
   ]
  },
  {
   "cell_type": "markdown",
   "id": "37bb03f5-4317-47a3-b8d2-99eb39bc2820",
   "metadata": {},
   "source": [
    "I made another column assigning a boolean 0,1 amount for colleges who have >50 women undergraduate enrollment and map out their average salary progressions from Starting to Mid-Career."
   ]
  },
  {
   "cell_type": "code",
   "execution_count": 523,
   "id": "d2690f90-206b-441e-8db9-d2972226991e",
   "metadata": {},
   "outputs": [],
   "source": [
    "def if_women(series): \n",
    "    if series > 50: \n",
    "        series = 'Yes'\n",
    "    else: \n",
    "        series = 'No'\n",
    "    return series"
   ]
  },
  {
   "cell_type": "code",
   "execution_count": 524,
   "id": "15011a39-f1e3-4042-8677-494f0eb8d1b2",
   "metadata": {},
   "outputs": [],
   "source": [
    "data['Mostly Women'] = data['Percent of Undergrad Enrollment that are Women'].apply(if_women)\n",
    "women_salary = data[['Mostly Women', 'Starting Median Salary', \n",
    "                     'Mid-Career Median Salary', 'Mid-Career 25th Percentile Salary', \n",
    "                     'Mid-Career 75th Percentile Salary']]\n",
    "women_salary = women_salary.dropna()"
   ]
  },
  {
   "cell_type": "markdown",
   "id": "36173b7f-d160-4aaf-a7a2-302d37fd50f4",
   "metadata": {},
   "source": [
    "#### Calculating value counts so we can see sample size and take that into account before doing calculations for analysis:"
   ]
  },
  {
   "cell_type": "code",
   "execution_count": 525,
   "id": "adbc8ba8-cc52-41c4-8549-9867997490c6",
   "metadata": {},
   "outputs": [
    {
     "data": {
      "text/plain": [
       "Mostly Women\n",
       "Yes    152\n",
       "No      84\n",
       "dtype: int64"
      ]
     },
     "execution_count": 525,
     "metadata": {},
     "output_type": "execute_result"
    }
   ],
   "source": [
    "women_salary.value_counts('Mostly Women')"
   ]
  },
  {
   "cell_type": "markdown",
   "id": "7a0e34d2-2012-480d-809c-6294ba318bc1",
   "metadata": {},
   "source": [
    "#### Grouping average Salaries for each categories, arranging it into ascending order:"
   ]
  },
  {
   "cell_type": "code",
   "execution_count": 526,
   "id": "1fc0f013-8ca0-4ea2-b42b-095517f40557",
   "metadata": {},
   "outputs": [
    {
     "data": {
      "text/html": [
       "<div>\n",
       "<style scoped>\n",
       "    .dataframe tbody tr th:only-of-type {\n",
       "        vertical-align: middle;\n",
       "    }\n",
       "\n",
       "    .dataframe tbody tr th {\n",
       "        vertical-align: top;\n",
       "    }\n",
       "\n",
       "    .dataframe thead th {\n",
       "        text-align: right;\n",
       "    }\n",
       "</style>\n",
       "<table border=\"1\" class=\"dataframe\">\n",
       "  <thead>\n",
       "    <tr style=\"text-align: right;\">\n",
       "      <th></th>\n",
       "      <th>Starting Median Salary</th>\n",
       "      <th>Mid-Career Median Salary</th>\n",
       "      <th>Mid-Career 25th Percentile Salary</th>\n",
       "      <th>Mid-Career 75th Percentile Salary</th>\n",
       "    </tr>\n",
       "    <tr>\n",
       "      <th>Mostly Women</th>\n",
       "      <th></th>\n",
       "      <th></th>\n",
       "      <th></th>\n",
       "      <th></th>\n",
       "    </tr>\n",
       "  </thead>\n",
       "  <tbody>\n",
       "    <tr>\n",
       "      <th>No</th>\n",
       "      <td>49828.571429</td>\n",
       "      <td>91048.809524</td>\n",
       "      <td>67008.333333</td>\n",
       "      <td>124020.238095</td>\n",
       "    </tr>\n",
       "    <tr>\n",
       "      <th>Yes</th>\n",
       "      <td>44027.631579</td>\n",
       "      <td>79985.526316</td>\n",
       "      <td>56813.815789</td>\n",
       "      <td>111846.710526</td>\n",
       "    </tr>\n",
       "  </tbody>\n",
       "</table>\n",
       "</div>"
      ],
      "text/plain": [
       "              Starting Median Salary  Mid-Career Median Salary  \\\n",
       "Mostly Women                                                     \n",
       "No                      49828.571429              91048.809524   \n",
       "Yes                     44027.631579              79985.526316   \n",
       "\n",
       "              Mid-Career 25th Percentile Salary  \\\n",
       "Mostly Women                                      \n",
       "No                                 67008.333333   \n",
       "Yes                                56813.815789   \n",
       "\n",
       "              Mid-Career 75th Percentile Salary  \n",
       "Mostly Women                                     \n",
       "No                                124020.238095  \n",
       "Yes                               111846.710526  "
      ]
     },
     "execution_count": 526,
     "metadata": {},
     "output_type": "execute_result"
    }
   ],
   "source": [
    "women_salary.groupby('Mostly Women').mean().sort_values(by='Starting Median Salary', ascending=False)"
   ]
  },
  {
   "cell_type": "markdown",
   "id": "4f74a58f-aa91-407f-873c-f8ab22c192b2",
   "metadata": {},
   "source": [
    "#### Conducting a t-test on independent sample groups so I can see if the difference between means is statistically significant, meaning its valid:"
   ]
  },
  {
   "cell_type": "code",
   "execution_count": 527,
   "id": "5887f057-6418-45e1-8145-fb365038d936",
   "metadata": {},
   "outputs": [],
   "source": [
    "from scipy.stats import ttest_ind\n",
    "\n",
    "men = women_salary[women_salary['Mostly Women']== 'No']\n",
    "women = women_salary[women_salary['Mostly Women']== 'Yes']"
   ]
  },
  {
   "cell_type": "code",
   "execution_count": 528,
   "id": "78d60242-4a94-4c76-bae6-a884b0024a79",
   "metadata": {},
   "outputs": [
    {
     "name": "stdout",
     "output_type": "stream",
     "text": [
      "P-value, T-Test for Starting Salary: 2.5235878725001997e-11\n",
      "P-value, T-Test for Mid-Career Salary: 2.3215789400013953e-08\n",
      "P-value, T-Test for Mid-Career 25th Percentile Salary: 4.3409860140556835e-11\n",
      "P-value, T-Test for Mid-Career 75th Percentile Salary: 0.00017652475392617025\n"
     ]
    }
   ],
   "source": [
    "print('P-value, T-Test for Starting Salary:', ttest_ind(men['Starting Median Salary'], women['Starting Median Salary']).pvalue)\n",
    "print('P-value, T-Test for Mid-Career Salary:', ttest_ind(men['Mid-Career Median Salary'], women['Mid-Career Median Salary']).pvalue)\n",
    "print('P-value, T-Test for Mid-Career 25th Percentile Salary:', ttest_ind(men['Mid-Career 25th Percentile Salary'], women['Mid-Career 25th Percentile Salary']).pvalue)\n",
    "print('P-value, T-Test for Mid-Career 75th Percentile Salary:',ttest_ind(men['Mid-Career 75th Percentile Salary'], women['Mid-Career 75th Percentile Salary']).pvalue)"
   ]
  },
  {
   "cell_type": "code",
   "execution_count": 529,
   "id": "7d073056-da45-4e62-b335-0a15f515e053",
   "metadata": {},
   "outputs": [],
   "source": [
    "women_data = women_salary.groupby('Mostly Women').mean()"
   ]
  },
  {
   "cell_type": "code",
   "execution_count": 530,
   "id": "edd3d2c9-e4b9-4225-9c20-43a44d09f355",
   "metadata": {},
   "outputs": [],
   "source": [
    "women_data = women_data.reset_index()"
   ]
  },
  {
   "cell_type": "markdown",
   "id": "1492251e-0b6a-4207-89cb-0e80eabb8f3a",
   "metadata": {},
   "source": [
    "#### After resetting index so said categories are a column of their own, I built a bar graph that maps out Salary Progresses by type of category churned out by the if_women function\n",
    "\n",
    "I put titles, x and ylabels and made sure that the colors were distinct enough for difference. I also converted it into a horizontal bar graph so differences between individual bars are easier to see (in my opinion)."
   ]
  },
  {
   "cell_type": "code",
   "execution_count": 760,
   "id": "cc0e5950-3a6d-45dc-bf6a-d4581adb0fc2",
   "metadata": {
    "tags": []
   },
   "outputs": [
    {
     "data": {
      "text/plain": [
       "Text(0.5, 0, 'Salary in USD ($)')"
      ]
     },
     "execution_count": 760,
     "metadata": {},
     "output_type": "execute_result"
    },
    {
     "data": {
      "image/png": "[encoded data removed]",
      "text/plain": [
       "<Figure size 432x288 with 1 Axes>"
      ]
     },
     "metadata": {},
     "output_type": "display_data"
    }
   ],
   "source": [
    "graph1 = women_data.plot(title ='Bargraph of Salary Progressions for Graduates of \\n Female vs. Male Dominated Colleges', xlabel = 'Does your college have a \\n female dominated population?',\n",
    "                        x=\"Mostly Women\", \n",
    "                        y=['Starting Median Salary', 'Mid-Career 25th Percentile Salary', 'Mid-Career Median Salary',\n",
    "                     'Mid-Career 75th Percentile Salary'], kind=\"barh\")\n",
    "graph1.legend(title='Salary Progressions (in USD)',title_fontsize=15,loc='lower left', bbox_to_anchor=(1, 0.5))\n",
    "graph1.set_xlabel('Salary in USD ($)')"
   ]
  },
  {
   "cell_type": "markdown",
   "id": "1c5c8173-a81f-491c-862c-1f96bfe31450",
   "metadata": {
    "tags": []
   },
   "source": [
    "#### Answer: \n",
    "\n",
    "Graduates of colleges with a female dominated undergraduate enrollment earn less throughout their career, on average, than graduates of colleges with a male dominated undegraduate enrollment. This difference is statistically significant since T-Test results measuring differences between the average starting and mid-career median salaries between all colleges in the database have a p-value <0.000013. \n",
    "\n",
    "Frankly speaking, this means that gender bias is still alive and well within our society, presenting itself in post-graduate salary outcomes of different colleges."
   ]
  },
  {
   "cell_type": "markdown",
   "id": "39866538-e921-4081-9adc-b87459e4cf4a",
   "metadata": {
    "tags": []
   },
   "source": [
    "### 2. Do white people make more money coming out of college?"
   ]
  },
  {
   "cell_type": "markdown",
   "id": "9f44e5fd-6fd3-4c1b-b693-666c49bce603",
   "metadata": {},
   "source": [
    "#### I also want to figure out racial bias in post-undergraduate outcomes. The method of answering is exactly the same as previous."
   ]
  },
  {
   "cell_type": "code",
   "execution_count": 534,
   "id": "2ba33f21-a7ed-4419-be18-714e7e9968e6",
   "metadata": {},
   "outputs": [],
   "source": [
    "def if_white(series): \n",
    "    if series > 50: \n",
    "        series = 'Yes'\n",
    "    else: \n",
    "        series = 'No'\n",
    "    return series"
   ]
  },
  {
   "cell_type": "code",
   "execution_count": 632,
   "id": "5ad0fed5-7322-434d-ba5b-37a236f2cf2e",
   "metadata": {},
   "outputs": [
    {
     "data": {
      "text/html": [
       "<div>\n",
       "<style scoped>\n",
       "    .dataframe tbody tr th:only-of-type {\n",
       "        vertical-align: middle;\n",
       "    }\n",
       "\n",
       "    .dataframe tbody tr th {\n",
       "        vertical-align: top;\n",
       "    }\n",
       "\n",
       "    .dataframe thead th {\n",
       "        text-align: right;\n",
       "    }\n",
       "</style>\n",
       "<table border=\"1\" class=\"dataframe\">\n",
       "  <thead>\n",
       "    <tr style=\"text-align: right;\">\n",
       "      <th></th>\n",
       "      <th>Mostly White</th>\n",
       "      <th>Starting Median Salary</th>\n",
       "      <th>Mid-Career Median Salary</th>\n",
       "      <th>Mid-Career 25th Percentile Salary</th>\n",
       "      <th>Mid-Career 75th Percentile Salary</th>\n",
       "    </tr>\n",
       "  </thead>\n",
       "  <tbody>\n",
       "    <tr>\n",
       "      <th>0</th>\n",
       "      <td>No</td>\n",
       "      <td>54500.0</td>\n",
       "      <td>107000.0</td>\n",
       "      <td>84900.0</td>\n",
       "      <td>162000.0</td>\n",
       "    </tr>\n",
       "    <tr>\n",
       "      <th>1</th>\n",
       "      <td>Yes</td>\n",
       "      <td>40400.0</td>\n",
       "      <td>69100.0</td>\n",
       "      <td>50400.0</td>\n",
       "      <td>90800.0</td>\n",
       "    </tr>\n",
       "  </tbody>\n",
       "</table>\n",
       "</div>"
      ],
      "text/plain": [
       "  Mostly White  Starting Median Salary  Mid-Career Median Salary  \\\n",
       "0           No                 54500.0                  107000.0   \n",
       "1          Yes                 40400.0                   69100.0   \n",
       "\n",
       "   Mid-Career 25th Percentile Salary  Mid-Career 75th Percentile Salary  \n",
       "0                            84900.0                           162000.0  \n",
       "1                            50400.0                            90800.0  "
      ]
     },
     "execution_count": 632,
     "metadata": {},
     "output_type": "execute_result"
    }
   ],
   "source": [
    "data['Mostly White'] = data['Percent of Undergrad Enrollment that are White'].apply(if_white)\n",
    "race_salary = data[['Mostly White', 'Starting Median Salary', \n",
    "                     'Mid-Career Median Salary', 'Mid-Career 25th Percentile Salary', \n",
    "                     'Mid-Career 75th Percentile Salary']]\n",
    "race_salary = race_salary.dropna()\n",
    "race_salary.head(2)"
   ]
  },
  {
   "cell_type": "code",
   "execution_count": 536,
   "id": "37767dac-33be-4aff-9557-c4fb4e2adb4f",
   "metadata": {},
   "outputs": [
    {
     "data": {
      "text/plain": [
       "Mostly White\n",
       "Yes    181\n",
       "No      55\n",
       "dtype: int64"
      ]
     },
     "execution_count": 536,
     "metadata": {},
     "output_type": "execute_result"
    }
   ],
   "source": [
    "race_salary.value_counts('Mostly White')"
   ]
  },
  {
   "cell_type": "code",
   "execution_count": 637,
   "id": "40a27798-4d28-4811-a61b-1d4b3fc3f664",
   "metadata": {},
   "outputs": [
    {
     "data": {
      "text/html": [
       "<div>\n",
       "<style scoped>\n",
       "    .dataframe tbody tr th:only-of-type {\n",
       "        vertical-align: middle;\n",
       "    }\n",
       "\n",
       "    .dataframe tbody tr th {\n",
       "        vertical-align: top;\n",
       "    }\n",
       "\n",
       "    .dataframe thead th {\n",
       "        text-align: right;\n",
       "    }\n",
       "</style>\n",
       "<table border=\"1\" class=\"dataframe\">\n",
       "  <thead>\n",
       "    <tr style=\"text-align: right;\">\n",
       "      <th></th>\n",
       "      <th>Mostly White</th>\n",
       "      <th>Starting Median Salary</th>\n",
       "      <th>Mid-Career Median Salary</th>\n",
       "      <th>Mid-Career 25th Percentile Salary</th>\n",
       "      <th>Mid-Career 75th Percentile Salary</th>\n",
       "    </tr>\n",
       "  </thead>\n",
       "  <tbody>\n",
       "    <tr>\n",
       "      <th>0</th>\n",
       "      <td>No</td>\n",
       "      <td>50860.000000</td>\n",
       "      <td>93903.636364</td>\n",
       "      <td>67781.818182</td>\n",
       "      <td>130718.181818</td>\n",
       "    </tr>\n",
       "    <tr>\n",
       "      <th>1</th>\n",
       "      <td>Yes</td>\n",
       "      <td>44643.646409</td>\n",
       "      <td>80890.607735</td>\n",
       "      <td>58212.154696</td>\n",
       "      <td>111761.878453</td>\n",
       "    </tr>\n",
       "  </tbody>\n",
       "</table>\n",
       "</div>"
      ],
      "text/plain": [
       "  Mostly White  Starting Median Salary  Mid-Career Median Salary  \\\n",
       "0           No            50860.000000              93903.636364   \n",
       "1          Yes            44643.646409              80890.607735   \n",
       "\n",
       "   Mid-Career 25th Percentile Salary  Mid-Career 75th Percentile Salary  \n",
       "0                       67781.818182                      130718.181818  \n",
       "1                       58212.154696                      111761.878453  "
      ]
     },
     "execution_count": 637,
     "metadata": {},
     "output_type": "execute_result"
    }
   ],
   "source": [
    "race_data = race_salary.groupby('Mostly White').mean().sort_values(by='Starting Median Salary', ascending=False)\n",
    "race_data.reset_index(inplace=True)\n",
    "race_data"
   ]
  },
  {
   "cell_type": "code",
   "execution_count": 289,
   "id": "d3fa993b-2560-486c-9fe0-dc891d34476b",
   "metadata": {},
   "outputs": [],
   "source": [
    "from scipy.stats import ttest_ind\n",
    "\n",
    "poc = race_salary[race_salary['Mostly White']== 'No']\n",
    "white = race_salary[race_salary['Mostly White']== 'Yes']"
   ]
  },
  {
   "cell_type": "code",
   "execution_count": 405,
   "id": "b613feaa-0b22-4532-b4be-9dfdd4d77a9a",
   "metadata": {},
   "outputs": [
    {
     "name": "stdout",
     "output_type": "stream",
     "text": [
      "P-value, T-Test for Starting Salary: 3.3852126694857343e-10\n",
      "P-value, T-Test for Mid-Career Salary: 5.958798017866571e-09\n",
      "P-value, T-Test for Mid-Career 25th Percentile Salary: 7.369225876338342e-08\n",
      "P-value, T-Test for Mid-Career 75th Percentile Salary: 1.6991033427168054e-07\n"
     ]
    }
   ],
   "source": [
    "print('P-value, T-Test for Starting Salary:', ttest_ind(poc['Starting Median Salary'], white['Starting Median Salary']).pvalue)\n",
    "print('P-value, T-Test for Mid-Career Salary:', ttest_ind(poc['Mid-Career Median Salary'], white['Mid-Career Median Salary']).pvalue)\n",
    "print('P-value, T-Test for Mid-Career 25th Percentile Salary:', ttest_ind(poc['Mid-Career 25th Percentile Salary'], white['Mid-Career 25th Percentile Salary']).pvalue)\n",
    "print('P-value, T-Test for Mid-Career 75th Percentile Salary:',ttest_ind(poc['Mid-Career 75th Percentile Salary'], white['Mid-Career 75th Percentile Salary']).pvalue)"
   ]
  },
  {
   "cell_type": "code",
   "execution_count": 759,
   "id": "d28a7eac-eda3-4d6b-8abc-d01e25aea60d",
   "metadata": {},
   "outputs": [
    {
     "data": {
      "text/plain": [
       "Text(0.5, 0, 'Salary in USD ($)')"
      ]
     },
     "execution_count": 759,
     "metadata": {},
     "output_type": "execute_result"
    },
    {
     "data": {
      "image/png": "[encoded data removed]",
      "text/plain": [
       "<Figure size 432x288 with 1 Axes>"
      ]
     },
     "metadata": {},
     "output_type": "display_data"
    }
   ],
   "source": [
    "graph2 = race_data.plot(title ='Bargraph of Salary Progressions for Graduates of \\n White vs. POC Dominated Colleges', \n",
    "                        ylabel = 'Salary USD',\n",
    "                        xlabel = 'Is your college a \\n Predominantly White Institution (PWI)?',\n",
    "                        x= \"Mostly White\", \n",
    "                        y=['Starting Median Salary', 'Mid-Career 25th Percentile Salary', 'Mid-Career Median Salary',\n",
    "                     'Mid-Career 75th Percentile Salary'], kind=\"barh\", cmap='viridis')\n",
    "graph2.legend(title='Salary Progressions (in USD)',title_fontsize=15,loc='lower left', bbox_to_anchor=(1, 0.5))\n",
    "graph2.set_xlabel('Salary in USD ($)')"
   ]
  },
  {
   "cell_type": "markdown",
   "id": "b844d762-77e8-491a-9c05-6d01ef64400b",
   "metadata": {},
   "source": [
    "#### Answer: \n",
    "Graduates of non-PWI colleges earn more throughout their career, on average, than graduates of colleges in a PWI. This difference is statistically significant since T-Test results measuring differences between the average starting and mid-career median salaries between all colleges in the database have a p-value <0.0007. \n",
    "\n",
    "This is a bit confusing for me since I thought the data points in the opposite direction. One thing I could have done better is to take rank into consideration, since the number of PWIs might also include smaller state colleges in lower earning states that are not that well known."
   ]
  },
  {
   "cell_type": "markdown",
   "id": "114197e2-714d-4ac5-af81-b728c6e02df3",
   "metadata": {
    "tags": []
   },
   "source": [
    "### 3. Do gender and race play a part in post-undergraduate salary?"
   ]
  },
  {
   "cell_type": "markdown",
   "id": "a82c0816-2f6c-4620-a579-d91d5991b459",
   "metadata": {},
   "source": [
    "#### The method of answering to this question is very similar to the last 2, except the function divides into 4 categories and not just 2."
   ]
  },
  {
   "cell_type": "code",
   "execution_count": 629,
   "id": "59386926-0f67-43f4-b6cd-838b3bcc322b",
   "metadata": {},
   "outputs": [
    {
     "data": {
      "text/html": [
       "<div>\n",
       "<style scoped>\n",
       "    .dataframe tbody tr th:only-of-type {\n",
       "        vertical-align: middle;\n",
       "    }\n",
       "\n",
       "    .dataframe tbody tr th {\n",
       "        vertical-align: top;\n",
       "    }\n",
       "\n",
       "    .dataframe thead th {\n",
       "        text-align: right;\n",
       "    }\n",
       "</style>\n",
       "<table border=\"1\" class=\"dataframe\">\n",
       "  <thead>\n",
       "    <tr style=\"text-align: right;\">\n",
       "      <th></th>\n",
       "      <th>ACT Code</th>\n",
       "      <th>Name</th>\n",
       "      <th>Total Percent Admitted</th>\n",
       "      <th>Total Percent Admissions Yield</th>\n",
       "      <th>Undergraduate Enrollment</th>\n",
       "      <th>Total Tuition</th>\n",
       "      <th>Percent of Undergrad Enrollment that are Women</th>\n",
       "      <th>Percent of Undergrad Enrollment that are White</th>\n",
       "      <th>Degree of Urbanization</th>\n",
       "      <th>Percent of freshmen receiving any financial aid</th>\n",
       "      <th>School Type</th>\n",
       "      <th>Starting Median Salary</th>\n",
       "      <th>Mid-Career Median Salary</th>\n",
       "      <th>Mid-Career 25th Percentile Salary</th>\n",
       "      <th>Mid-Career 75th Percentile Salary</th>\n",
       "      <th>Mostly Women</th>\n",
       "      <th>Mostly White</th>\n",
       "      <th>Women/White</th>\n",
       "    </tr>\n",
       "  </thead>\n",
       "  <tbody>\n",
       "    <tr>\n",
       "      <th>0</th>\n",
       "      <td>1774</td>\n",
       "      <td>AMHERST COLLEGE</td>\n",
       "      <td>14.0</td>\n",
       "      <td>41.0</td>\n",
       "      <td>1785.0</td>\n",
       "      <td>46574.0</td>\n",
       "      <td>50.0</td>\n",
       "      <td>42.0</td>\n",
       "      <td>Suburb: Large</td>\n",
       "      <td>65.0</td>\n",
       "      <td>Liberal Arts</td>\n",
       "      <td>54500.0</td>\n",
       "      <td>107000.0</td>\n",
       "      <td>84900.0</td>\n",
       "      <td>162000.0</td>\n",
       "      <td>No</td>\n",
       "      <td>No</td>\n",
       "      <td>Less White &amp; Women</td>\n",
       "    </tr>\n",
       "  </tbody>\n",
       "</table>\n",
       "</div>"
      ],
      "text/plain": [
       "   ACT Code             Name  Total Percent Admitted  \\\n",
       "0      1774  AMHERST COLLEGE                    14.0   \n",
       "\n",
       "   Total Percent Admissions Yield  Undergraduate Enrollment  Total Tuition  \\\n",
       "0                            41.0                    1785.0        46574.0   \n",
       "\n",
       "   Percent of Undergrad Enrollment that are Women  \\\n",
       "0                                            50.0   \n",
       "\n",
       "   Percent of Undergrad Enrollment that are White Degree of Urbanization  \\\n",
       "0                                            42.0          Suburb: Large   \n",
       "\n",
       "   Percent of freshmen receiving any financial aid   School Type  \\\n",
       "0                                             65.0  Liberal Arts   \n",
       "\n",
       "   Starting Median Salary  Mid-Career Median Salary  \\\n",
       "0                 54500.0                  107000.0   \n",
       "\n",
       "   Mid-Career 25th Percentile Salary  Mid-Career 75th Percentile Salary  \\\n",
       "0                            84900.0                           162000.0   \n",
       "\n",
       "  Mostly Women Mostly White         Women/White  \n",
       "0           No           No  Less White & Women  "
      ]
     },
     "execution_count": 629,
     "metadata": {},
     "output_type": "execute_result"
    }
   ],
   "source": [
    "data.head(1)"
   ]
  },
  {
   "cell_type": "code",
   "execution_count": 673,
   "id": "428615bb-a34f-431b-809b-39d7a2ee47c6",
   "metadata": {},
   "outputs": [],
   "source": [
    "def f(series):\n",
    "    if series['Percent of Undergrad Enrollment that are Women'] > 50 and series['Percent of Undergrad Enrollment that are White'] > 50:\n",
    "        return 'PWI Female Dominated'\n",
    "    elif series['Percent of Undergrad Enrollment that are Women'] <= 50 and series['Percent of Undergrad Enrollment that are White'] > 50:\n",
    "        return 'PWI Male Dominated'\n",
    "    elif series['Percent of Undergrad Enrollment that are Women'] > 50 and series['Percent of Undergrad Enrollment that are White'] <= 50:\n",
    "        return 'Non-PWI Female Dominated'\n",
    "    elif series['Percent of Undergrad Enrollment that are Women'] <= 50 and series['Percent of Undergrad Enrollment that are White'] <= 50:\n",
    "        return 'Non-PWI Male Dominated'\n",
    "\n",
    "data['Women/White'] = data.apply(f, axis=1)"
   ]
  },
  {
   "cell_type": "code",
   "execution_count": 668,
   "id": "fcf0d498-a02d-45b4-953d-ac9e076c16c5",
   "metadata": {},
   "outputs": [],
   "source": [
    "women_white = data[['Mostly Women', 'Women/White', 'Starting Median Salary', \n",
    "                     'Mid-Career Median Salary', 'Mid-Career 25th Percentile Salary', \n",
    "                     'Mid-Career 75th Percentile Salary']]"
   ]
  },
  {
   "cell_type": "markdown",
   "id": "6589c8c3-9cac-4917-b71d-216d9c6e1563",
   "metadata": {},
   "source": [
    "#### Super interesting that there are more female dominated PWIs but that could also be due to the trend of more women going to college than men. "
   ]
  },
  {
   "cell_type": "code",
   "execution_count": 669,
   "id": "dca0ffc5-802a-4681-94bc-b9d1888e8068",
   "metadata": {},
   "outputs": [
    {
     "data": {
      "text/plain": [
       "Women/White\n",
       "PWI Female Dominated        115\n",
       "PWI Male Dominated           66\n",
       "Non-PWI Female Dominated     37\n",
       "Non-PWI Male Dominated       18\n",
       "dtype: int64"
      ]
     },
     "execution_count": 669,
     "metadata": {},
     "output_type": "execute_result"
    }
   ],
   "source": [
    "women_white.value_counts('Women/White')"
   ]
  },
  {
   "cell_type": "code",
   "execution_count": 763,
   "id": "9faadc4d-1420-4a77-a8dd-ad64bf8f2202",
   "metadata": {},
   "outputs": [
    {
     "data": {
      "text/html": [
       "<div>\n",
       "<style scoped>\n",
       "    .dataframe tbody tr th:only-of-type {\n",
       "        vertical-align: middle;\n",
       "    }\n",
       "\n",
       "    .dataframe tbody tr th {\n",
       "        vertical-align: top;\n",
       "    }\n",
       "\n",
       "    .dataframe thead th {\n",
       "        text-align: right;\n",
       "    }\n",
       "</style>\n",
       "<table border=\"1\" class=\"dataframe\">\n",
       "  <thead>\n",
       "    <tr style=\"text-align: right;\">\n",
       "      <th></th>\n",
       "      <th>Women/White</th>\n",
       "      <th>Starting Median Salary</th>\n",
       "      <th>Mid-Career Median Salary</th>\n",
       "      <th>Mid-Career 25th Percentile Salary</th>\n",
       "      <th>Mid-Career 75th Percentile Salary</th>\n",
       "    </tr>\n",
       "  </thead>\n",
       "  <tbody>\n",
       "    <tr>\n",
       "      <th>0</th>\n",
       "      <td>Non-PWI Male Dominated</td>\n",
       "      <td>58583.333333</td>\n",
       "      <td>108311.111111</td>\n",
       "      <td>80766.666667</td>\n",
       "      <td>150983.333333</td>\n",
       "    </tr>\n",
       "    <tr>\n",
       "      <th>1</th>\n",
       "      <td>Non-PWI Female Dominated</td>\n",
       "      <td>47102.702703</td>\n",
       "      <td>86894.594595</td>\n",
       "      <td>61464.864865</td>\n",
       "      <td>120859.459459</td>\n",
       "    </tr>\n",
       "    <tr>\n",
       "      <th>2</th>\n",
       "      <td>PWI Male Dominated</td>\n",
       "      <td>47440.909091</td>\n",
       "      <td>86340.909091</td>\n",
       "      <td>63256.060606</td>\n",
       "      <td>116666.666667</td>\n",
       "    </tr>\n",
       "    <tr>\n",
       "      <th>3</th>\n",
       "      <td>PWI Female Dominated</td>\n",
       "      <td>43038.260870</td>\n",
       "      <td>77762.608696</td>\n",
       "      <td>55317.391304</td>\n",
       "      <td>108946.956522</td>\n",
       "    </tr>\n",
       "  </tbody>\n",
       "</table>\n",
       "</div>"
      ],
      "text/plain": [
       "                Women/White  Starting Median Salary  Mid-Career Median Salary  \\\n",
       "0    Non-PWI Male Dominated            58583.333333             108311.111111   \n",
       "1  Non-PWI Female Dominated            47102.702703              86894.594595   \n",
       "2        PWI Male Dominated            47440.909091              86340.909091   \n",
       "3      PWI Female Dominated            43038.260870              77762.608696   \n",
       "\n",
       "   Mid-Career 25th Percentile Salary  Mid-Career 75th Percentile Salary  \n",
       "0                       80766.666667                      150983.333333  \n",
       "1                       61464.864865                      120859.459459  \n",
       "2                       63256.060606                      116666.666667  \n",
       "3                       55317.391304                      108946.956522  "
      ]
     },
     "execution_count": 763,
     "metadata": {},
     "output_type": "execute_result"
    }
   ],
   "source": [
    "intersection_data = women_white.groupby('Women/White').mean().sort_values(by='Mid-Career Median Salary', ascending=False)\n",
    "intersection_data = intersection_data.reset_index()\n",
    "intersection_data"
   ]
  },
  {
   "cell_type": "markdown",
   "id": "dba02e07-91ff-484e-918a-0714db0cc227",
   "metadata": {},
   "source": [
    "#### ANOVA Test for Difference between >2 Means"
   ]
  },
  {
   "cell_type": "code",
   "execution_count": 772,
   "id": "36bf9a5f-d5af-4e68-9045-cb84a6f4ae2c",
   "metadata": {},
   "outputs": [
    {
     "name": "stdout",
     "output_type": "stream",
     "text": [
      "P-Value for the Anova Test is  2.435856451367616e-24\n"
     ]
    }
   ],
   "source": [
    "import scipy.stats as stats\n",
    "\n",
    "nonpwi_m = women_white[women_white['Women/White']== 'Non-PWI Male Dominated']\n",
    "nonpwi_f = women_white[women_white['Women/White']== 'Non-PWI Female Dominated']\n",
    "pwi_m = women_white[women_white['Women/White']== 'PWI Male Dominated']\n",
    "pwi_f = women_white[women_white['Women/White']== 'PWI Female Dominated']\n",
    "\n",
    "\n",
    "# stats f_oneway functions takes the groups as input and returns ANOVA F and p value\n",
    "fvalue, pvalue = stats.f_oneway(nonpwi_m['Starting Median Salary'], nonpwi_f['Starting Median Salary'],\n",
    "                                pwi_m['Starting Median Salary'], pwi_f['Starting Median Salary'])\n",
    "print(\"P-Value for the Anova Test is \", pvalue)"
   ]
  },
  {
   "cell_type": "code",
   "execution_count": 764,
   "id": "252a8707-4750-4991-8753-15201d012c0d",
   "metadata": {},
   "outputs": [
    {
     "data": {
      "text/plain": [
       "Text(0.5, 0, 'Salary in USD ($)')"
      ]
     },
     "execution_count": 764,
     "metadata": {},
     "output_type": "execute_result"
    },
    {
     "data": {
      "image/png": "[encoded data removed]",
      "text/plain": [
       "<Figure size 432x288 with 1 Axes>"
      ]
     },
     "metadata": {},
     "output_type": "display_data"
    }
   ],
   "source": [
    "graph3 = intersection_data.plot(title ='Bargraph of Salary Progressions for Graduates of \\n Intersectional Minority College Types', \n",
    "                        ylabel = '($) USD',\n",
    "                        xlabel = 'Is your college a \\n Predominantly White Institution (PWI)?',\n",
    "                        x= \"Women/White\", \n",
    "                        y=['Starting Median Salary', 'Mid-Career 25th Percentile Salary', 'Mid-Career Median Salary', \n",
    "                     'Mid-Career 75th Percentile Salary'], kind=\"barh\", cmap='plasma')\n",
    "graph3.legend(title='Salary Progressions (in USD)',title_fontsize=15,loc='lower left', bbox_to_anchor=(1, 0.5))\n",
    "graph3.set_xlabel('Salary in USD ($)')"
   ]
  },
  {
   "cell_type": "markdown",
   "id": "977775b7-6492-411d-9d3f-c69b6d7337cf",
   "metadata": {
    "tags": []
   },
   "source": [
    "### 4. How important is the role of socioeconomic class in post-undergraduate salary?"
   ]
  },
  {
   "cell_type": "markdown",
   "id": "7e95e4d5-49fc-4f66-8318-cc7623146bf3",
   "metadata": {},
   "source": [
    "#### First, I mapped out the salary progressions of different school types in ascending order so we can see a clear pattern. "
   ]
  },
  {
   "cell_type": "code",
   "execution_count": 578,
   "id": "f25113d6-cb3a-489f-878d-f4807fecb38e",
   "metadata": {},
   "outputs": [
    {
     "data": {
      "text/html": [
       "<div>\n",
       "<style scoped>\n",
       "    .dataframe tbody tr th:only-of-type {\n",
       "        vertical-align: middle;\n",
       "    }\n",
       "\n",
       "    .dataframe tbody tr th {\n",
       "        vertical-align: top;\n",
       "    }\n",
       "\n",
       "    .dataframe thead th {\n",
       "        text-align: right;\n",
       "    }\n",
       "</style>\n",
       "<table border=\"1\" class=\"dataframe\">\n",
       "  <thead>\n",
       "    <tr style=\"text-align: right;\">\n",
       "      <th></th>\n",
       "      <th>School Type</th>\n",
       "      <th>Starting Median Salary</th>\n",
       "      <th>Mid-Career Median Salary</th>\n",
       "      <th>Mid-Career 25th Percentile Salary</th>\n",
       "      <th>Mid-Career 75th Percentile Salary</th>\n",
       "      <th>Percent of freshmen receiving any financial aid</th>\n",
       "    </tr>\n",
       "  </thead>\n",
       "  <tbody>\n",
       "    <tr>\n",
       "      <th>0</th>\n",
       "      <td>Ivy League</td>\n",
       "      <td>60475.000000</td>\n",
       "      <td>120125.000000</td>\n",
       "      <td>82787.500000</td>\n",
       "      <td>184125.000000</td>\n",
       "      <td>68.125000</td>\n",
       "    </tr>\n",
       "    <tr>\n",
       "      <th>1</th>\n",
       "      <td>Engineering</td>\n",
       "      <td>59238.888889</td>\n",
       "      <td>104422.222222</td>\n",
       "      <td>81355.555556</td>\n",
       "      <td>135583.333333</td>\n",
       "      <td>89.166667</td>\n",
       "    </tr>\n",
       "    <tr>\n",
       "      <th>2</th>\n",
       "      <td>Liberal Arts</td>\n",
       "      <td>45736.363636</td>\n",
       "      <td>89197.727273</td>\n",
       "      <td>62159.090909</td>\n",
       "      <td>130922.727273</td>\n",
       "      <td>74.681818</td>\n",
       "    </tr>\n",
       "    <tr>\n",
       "      <th>3</th>\n",
       "      <td>Party</td>\n",
       "      <td>45715.000000</td>\n",
       "      <td>84685.000000</td>\n",
       "      <td>60005.000000</td>\n",
       "      <td>118100.000000</td>\n",
       "      <td>82.350000</td>\n",
       "    </tr>\n",
       "    <tr>\n",
       "      <th>4</th>\n",
       "      <td>State</td>\n",
       "      <td>43842.465753</td>\n",
       "      <td>77718.493151</td>\n",
       "      <td>56182.191781</td>\n",
       "      <td>105358.219178</td>\n",
       "      <td>82.191781</td>\n",
       "    </tr>\n",
       "  </tbody>\n",
       "</table>\n",
       "</div>"
      ],
      "text/plain": [
       "    School Type  Starting Median Salary  Mid-Career Median Salary  \\\n",
       "0    Ivy League            60475.000000             120125.000000   \n",
       "1   Engineering            59238.888889             104422.222222   \n",
       "2  Liberal Arts            45736.363636              89197.727273   \n",
       "3         Party            45715.000000              84685.000000   \n",
       "4         State            43842.465753              77718.493151   \n",
       "\n",
       "   Mid-Career 25th Percentile Salary  Mid-Career 75th Percentile Salary  \\\n",
       "0                       82787.500000                      184125.000000   \n",
       "1                       81355.555556                      135583.333333   \n",
       "2                       62159.090909                      130922.727273   \n",
       "3                       60005.000000                      118100.000000   \n",
       "4                       56182.191781                      105358.219178   \n",
       "\n",
       "   Percent of freshmen receiving any financial aid  \n",
       "0                                        68.125000  \n",
       "1                                        89.166667  \n",
       "2                                        74.681818  \n",
       "3                                        82.350000  \n",
       "4                                        82.191781  "
      ]
     },
     "execution_count": 578,
     "metadata": {},
     "output_type": "execute_result"
    }
   ],
   "source": [
    "college_type = data[['School Type', 'Starting Median Salary', \n",
    "                     'Mid-Career Median Salary', 'Mid-Career 25th Percentile Salary', \n",
    "                     'Mid-Career 75th Percentile Salary', 'Percent of freshmen receiving any financial aid']]\n",
    "type_salary = college_type.groupby('School Type').mean().sort_values(by='Starting Median Salary', ascending=False)\n",
    "type_salary.reset_index(inplace=True)\n",
    "type_salary"
   ]
  },
  {
   "cell_type": "markdown",
   "id": "a3569843-759c-4f19-9603-a84847891588",
   "metadata": {},
   "source": [
    "#### Then, I mapped out financial aid assistance per School Type"
   ]
  },
  {
   "cell_type": "code",
   "execution_count": 399,
   "id": "f6cc9393-1815-4051-b998-9095f27b4a73",
   "metadata": {},
   "outputs": [
    {
     "data": {
      "text/html": [
       "<div>\n",
       "<style scoped>\n",
       "    .dataframe tbody tr th:only-of-type {\n",
       "        vertical-align: middle;\n",
       "    }\n",
       "\n",
       "    .dataframe tbody tr th {\n",
       "        vertical-align: top;\n",
       "    }\n",
       "\n",
       "    .dataframe thead th {\n",
       "        text-align: right;\n",
       "    }\n",
       "</style>\n",
       "<table border=\"1\" class=\"dataframe\">\n",
       "  <thead>\n",
       "    <tr style=\"text-align: right;\">\n",
       "      <th></th>\n",
       "      <th>Percent of freshmen receiving any financial aid</th>\n",
       "    </tr>\n",
       "    <tr>\n",
       "      <th>School Type</th>\n",
       "      <th></th>\n",
       "    </tr>\n",
       "  </thead>\n",
       "  <tbody>\n",
       "    <tr>\n",
       "      <th>Engineering</th>\n",
       "      <td>89.166667</td>\n",
       "    </tr>\n",
       "    <tr>\n",
       "      <th>Party</th>\n",
       "      <td>82.350000</td>\n",
       "    </tr>\n",
       "    <tr>\n",
       "      <th>State</th>\n",
       "      <td>82.191781</td>\n",
       "    </tr>\n",
       "    <tr>\n",
       "      <th>Liberal Arts</th>\n",
       "      <td>74.681818</td>\n",
       "    </tr>\n",
       "    <tr>\n",
       "      <th>Ivy League</th>\n",
       "      <td>68.125000</td>\n",
       "    </tr>\n",
       "  </tbody>\n",
       "</table>\n",
       "</div>"
      ],
      "text/plain": [
       "              Percent of freshmen receiving any financial aid\n",
       "School Type                                                  \n",
       "Engineering                                         89.166667\n",
       "Party                                               82.350000\n",
       "State                                               82.191781\n",
       "Liberal Arts                                        74.681818\n",
       "Ivy League                                          68.125000"
      ]
     },
     "execution_count": 399,
     "metadata": {},
     "output_type": "execute_result"
    }
   ],
   "source": [
    "data[['School Type', 'Percent of freshmen receiving any financial aid']].groupby('School Type').mean().sort_values(by='Percent of freshmen receiving any financial aid', ascending=False)"
   ]
  },
  {
   "cell_type": "markdown",
   "id": "8096d859-e7b4-4b17-b6f4-5c1fc138d616",
   "metadata": {},
   "source": [
    "#### Used a twinned line graph to showcase financial aid and salary progression data against the same categorical x variable."
   ]
  },
  {
   "cell_type": "code",
   "execution_count": 717,
   "id": "89b96687-8483-40ce-af2d-4be21bef125e",
   "metadata": {},
   "outputs": [
    {
     "data": {
      "text/plain": [
       "Text(0.5, 1.0, 'Line Chart of Different School Types and \\n their Salary Progressions vs. Needed Financial Aid')"
      ]
     },
     "execution_count": 717,
     "metadata": {},
     "output_type": "execute_result"
    },
    {
     "data": {
      "image/png": "[encoded data removed]",
      "text/plain": [
       "<Figure size 432x288 with 3 Axes>"
      ]
     },
     "metadata": {},
     "output_type": "display_data"
    }
   ],
   "source": [
    "fig,ax = plt.subplots()\n",
    "fig.subplots_adjust(right=0.75)\n",
    "\n",
    "twin1 = ax.twinx()\n",
    "twin2 = ax.twinx()\n",
    "\n",
    "twin2.spines.right.set_position((\"axes\", 1.25))\n",
    "\n",
    "p1, = ax.plot(type_salary['School Type'], type_salary['Percent of freshmen receiving any financial aid'],\n",
    "              \"b-\", label=\"& of Freshmen with Financial Aid\")\n",
    "p2, = twin1.plot(type_salary['School Type'], type_salary['Starting Median Salary'], \"r-\", label=\"Starting Median Salary\")\n",
    "p3, = twin2.plot(type_salary['School Type'], type_salary['Mid-Career Median Salary'], \"g-\", label=\"Mid-Career Median Salary\")\n",
    "\n",
    "ax.set_xlabel(\"School Type\")\n",
    "ax.set_ylabel(\"% of Total Freshmen Enrollment\", fontweight='bold')\n",
    "twin1.set_ylabel(\"\")\n",
    "twin2.set_ylabel(\"Salary in USD ($)\", fontweight='bold')\n",
    "\n",
    "ax.yaxis.label.set_color('black')\n",
    "twin1.yaxis.label.set_color(p2.get_color())\n",
    "twin2.yaxis.label.set_color('black')\n",
    "\n",
    "ax.legend(handles=[p1, p2, p3], loc='lower left', bbox_to_anchor=(1.5, 0.4))\n",
    "ax.set_title('Line Chart of Different School Types and \\n their Salary Progressions vs. Needed Financial Aid', fontsize=15)\n",
    "\n",
    "#graph2.legend(title='Salary Progressions',title_fontsize=15,loc='lower left', bbox_to_anchor=(1, 0.5))\n"
   ]
  },
  {
   "cell_type": "code",
   "execution_count": null,
   "id": "bf39592c-2c74-4484-8c8d-40da00000fe7",
   "metadata": {},
   "outputs": [],
   "source": []
  }
 ],
 "metadata": {
  "kernelspec": {
   "display_name": "Python 3 (ipykernel)",
   "language": "python",
   "name": "python3"
  },
  "language_info": {
   "codemirror_mode": {
    "name": "ipython",
    "version": 3
   },
   "file_extension": ".py",
   "mimetype": "text/x-python",
   "name": "python",
   "nbconvert_exporter": "python",
   "pygments_lexer": "ipython3",
   "version": "3.9.7"
  }
 },
 "nbformat": 4,
 "nbformat_minor": 5
}
